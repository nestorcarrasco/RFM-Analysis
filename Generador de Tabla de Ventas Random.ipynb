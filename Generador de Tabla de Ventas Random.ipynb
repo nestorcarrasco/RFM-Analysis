{
 "cells": [
  {
   "cell_type": "code",
   "execution_count": 6,
   "metadata": {},
   "outputs": [],
   "source": [
    "from datetime import datetime, timedelta\n",
    "import random\n",
    "import pandas as pd\n",
    "\n",
    "headers = [\"ORDER_DATE\", \"ORDER_ID\", \"CATEGORY\", \"CUSTOMER\", \"GRAND_TOTAL\"]\n",
    "data = []\n",
    "\n",
    "# Función para generar una fecha aleatoria dentro de los pasados 3 meses (cambia el 90 para más días)\n",
    "def random_date():\n",
    "    end_date = datetime.now()\n",
    "    start_date = end_date - timedelta(days=90)\n",
    "    return start_date + (end_date - start_date) * random.random()\n",
    "\n",
    "# Generar 10000 filas de datos aleatorios\n",
    "for i in range(1, 10001):\n",
    "    order_date = random_date().strftime('%Y-%m-%d')\n",
    "    order_id = f\"A{i:03d}\"\n",
    "    category = random.choice([\"Belleza\", \"Muebles\", \"Smartphones\", \"Herramientas\", \"Ropa\", \"Decoración\"])\n",
    "    customer = random.randint(1, 1000000)\n",
    "    grand_total = random.randint(50000, 1000000)\n",
    "    data.append([order_date, order_id, category, customer, grand_total])\n",
    "\n",
    "# Crear un DataFrame de Pandas con los datos\n",
    "df = pd.DataFrame(data[1:], columns=headers)\n",
    "\n",
    "df.to_csv('data_rfm.csv', index=False)\n"
   ]
  }
 ],
 "metadata": {
  "kernelspec": {
   "display_name": "Python 3",
   "language": "python",
   "name": "python3"
  },
  "language_info": {
   "codemirror_mode": {
    "name": "ipython",
    "version": 3
   },
   "file_extension": ".py",
   "mimetype": "text/x-python",
   "name": "python",
   "nbconvert_exporter": "python",
   "pygments_lexer": "ipython3",
   "version": "3.8.5"
  }
 },
 "nbformat": 4,
 "nbformat_minor": 4
}
